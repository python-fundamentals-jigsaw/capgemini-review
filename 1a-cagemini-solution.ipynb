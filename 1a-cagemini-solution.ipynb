{
 "cells": [
  {
   "cell_type": "markdown",
   "id": "ecb2edfd-f6c1-4936-b36a-97e587a7298c",
   "metadata": {},
   "source": [
    "# Capgemini Reviews Dataset"
   ]
  },
  {
   "cell_type": "markdown",
   "id": "81129152-ac58-472d-a64c-66f19dbc2390",
   "metadata": {},
   "source": [
    "### Introduction"
   ]
  },
  {
   "cell_type": "markdown",
   "id": "1c5712a6-15c2-42bb-9611-0bfb45cf3735",
   "metadata": {},
   "source": [
    "In this lesson, we'll look at some of the reviews of Capgemini.  Let's get started."
   ]
  },
  {
   "cell_type": "markdown",
   "id": "c992a27a-46f4-4f47-bea4-5c64690e15a8",
   "metadata": {},
   "source": [
    "### Loading the data"
   ]
  },
  {
   "cell_type": "markdown",
   "id": "74be8777-c74a-4426-95a8-807902467e68",
   "metadata": {},
   "source": [
    "Let's get started by loading our Capgemini data."
   ]
  },
  {
   "cell_type": "code",
   "execution_count": 1,
   "id": "b24d6ca3-9ef3-4e46-a043-ffc58bdd2a8c",
   "metadata": {},
   "outputs": [],
   "source": [
    "import pandas as pd\n",
    "\n",
    "df = pd.read_csv('./reviews.csv')"
   ]
  },
  {
   "cell_type": "code",
   "execution_count": 3,
   "id": "22215dcf-108d-4f06-b309-d31bfb0f4e93",
   "metadata": {},
   "outputs": [],
   "source": [
    "reviews = df.to_dict('records')"
   ]
  },
  {
   "cell_type": "markdown",
   "id": "b0bef910-563c-45cf-95e3-8a4b90fb7873",
   "metadata": {},
   "source": [
    "### Exploring the data"
   ]
  },
  {
   "cell_type": "markdown",
   "id": "2a03991d-f680-42dc-a15c-42e387f04da4",
   "metadata": {},
   "source": [
    "Let's begin by exploring the data.  Remember that our first step can be to explore the grain of the data, and then we can move onto getting an overview of the data."
   ]
  },
  {
   "cell_type": "markdown",
   "id": "3f17d79c-f275-4cb0-85fc-c2552feaad26",
   "metadata": {},
   "source": [
    "Begin by selecting a single review and looking at it's keys."
   ]
  },
  {
   "cell_type": "code",
   "execution_count": 7,
   "id": "926eef24-b241-45ab-b95e-b9892bdc4bee",
   "metadata": {},
   "outputs": [
    {
     "data": {
      "text/plain": [
       "dict_keys(['Title', 'Place', 'Job_type', 'Department', 'Date', 'Overall_rating', 'work_life_balance', 'skill_development', 'salary_and_benefits', 'job_security', 'career_growth', 'work_satisfaction', 'Likes', 'Dislikes'])"
      ]
     },
     "execution_count": 7,
     "metadata": {},
     "output_type": "execute_result"
    }
   ],
   "source": [
    "first_review = reviews[0]\n",
    "\n",
    "first_review.keys()\n",
    "\n",
    "# dict_keys(['Title', 'Place', 'Job_type', 'Department', 'Date', 'Overall_rating', 'work_life_balance', 'skill_development', 'salary_and_benefits', 'job_security',\n",
    "# 'career_growth', 'work_satisfaction', 'Likes', 'Dislikes'])"
   ]
  },
  {
   "cell_type": "markdown",
   "id": "af5bbaad-9ffd-4c85-b6a9-be9cdccaef8b",
   "metadata": {},
   "source": [
    "And from there, look at the corresponding values."
   ]
  },
  {
   "cell_type": "code",
   "execution_count": 8,
   "id": "ebca1799-b1e8-4e92-834b-0de2d28dc868",
   "metadata": {},
   "outputs": [
    {
     "data": {
      "text/plain": [
       "dict_values(['Senior Consultant', 'Pune', 'Full Time', 'General Insurance Department', '8 Sep 2023', 4.0, 4.0, 3.0, 3.0, 4.0, 4.0, 4.0, 'Deserved candidates are promoted promptly.\\nUnbiased in providing opportunities to employees, regardless of their gender or any other thing', 'With designation promotions good salary increment is also required'])"
      ]
     },
     "execution_count": 8,
     "metadata": {},
     "output_type": "execute_result"
    }
   ],
   "source": [
    "first_review.values()"
   ]
  },
  {
   "cell_type": "markdown",
   "id": "a0e260ed-c2ec-4665-ab3f-10d9c4136731",
   "metadata": {},
   "source": [
    "### Coercing the data"
   ]
  },
  {
   "cell_type": "markdown",
   "id": "ca574cc6-e6b9-4339-a124-b5caf9c72a60",
   "metadata": {},
   "source": [
    "* Now before we get started, let's change the data a bit.  \n",
    "\n",
    "Create a new list of dictionaries -- it should look just like the old list of reviews, but each should review should have a key of `day`, `month` and `year`, with the day month and year coming from each review's date value.  The date key value pair can be excluded.  Day and year should both be integers.\n",
    "\n",
    "If there are is a nan for the date, there should still be keys for day, month and year -- but values can be None."
   ]
  },
  {
   "cell_type": "code",
   "execution_count": 90,
   "id": "c7f4130e-00b1-4097-9afa-f28d8eee14a7",
   "metadata": {},
   "outputs": [],
   "source": [
    "def build_dated_reviews(reviews):\n",
    "    dated_reviews = []\n",
    "    for review in reviews:\n",
    "        if type(review['Date']) == str:\n",
    "            day, month, year = review['Date'].split()\n",
    "\n",
    "            dated = {'day': int(day), 'month': month, 'year': int(year)}\n",
    "        else:\n",
    "            dated = {'day': None, 'month': None, 'year': None}\n",
    "        dated_review = {**review, **dated}\n",
    "        dated_reviews.append(dated_review)\n",
    "    return dated_reviews"
   ]
  },
  {
   "cell_type": "markdown",
   "id": "55e27830-08cf-4e7d-bc05-4e1cc136f608",
   "metadata": {},
   "source": [
    "* Now wrap the code in a function.  The function can be called `build_dated_reviews`, and it takes an argument of `reviews` and returns a new list of dictionaries."
   ]
  },
  {
   "cell_type": "code",
   "execution_count": 91,
   "id": "f0d11fea-2b9a-45b7-9ef1-d59db6c11791",
   "metadata": {},
   "outputs": [
    {
     "data": {
      "text/plain": [
       "26993"
      ]
     },
     "execution_count": 91,
     "metadata": {},
     "output_type": "execute_result"
    }
   ],
   "source": [
    "len(reviews)"
   ]
  },
  {
   "cell_type": "code",
   "execution_count": 92,
   "id": "9d7cad51-dc00-4fda-abec-d536b03d12e4",
   "metadata": {},
   "outputs": [
    {
     "data": {
      "text/plain": [
       "26993"
      ]
     },
     "execution_count": 92,
     "metadata": {},
     "output_type": "execute_result"
    }
   ],
   "source": [
    "dated_reviews = build_dated_reviews(reviews)\n",
    "len(dated_reviews)"
   ]
  },
  {
   "cell_type": "markdown",
   "id": "0438d2cc-bac8-48e9-891a-04d45ebf9dd1",
   "metadata": {},
   "source": [
    "Now let's look at a single review -- to see how these new keys look."
   ]
  },
  {
   "cell_type": "code",
   "execution_count": 93,
   "id": "caf73a3a-c1ff-4982-a7c0-b5d5a4462e99",
   "metadata": {},
   "outputs": [
    {
     "data": {
      "text/plain": [
       "(8, 'Sep', 2023)"
      ]
     },
     "execution_count": 93,
     "metadata": {},
     "output_type": "execute_result"
    }
   ],
   "source": [
    "first_dated_review = dated_reviews[0]\n",
    "first_dated_review['day'], first_dated_review['month'], first_dated_review['year']"
   ]
  },
  {
   "cell_type": "markdown",
   "id": "8f42bb25-5f1d-4264-b61c-375f57e51746",
   "metadata": {},
   "source": [
    "* And now let's write a function that provided a review, will just return the specified attributes of that review. "
   ]
  },
  {
   "cell_type": "code",
   "execution_count": 94,
   "id": "b202c439-f641-4566-9468-2e38f7b0771c",
   "metadata": {},
   "outputs": [],
   "source": [
    "def build_selected_review(review, attrs):\n",
    "    return {k:v for k, v in review.items() if k in attrs}"
   ]
  },
  {
   "cell_type": "code",
   "execution_count": 95,
   "id": "69c11fe1-4ca5-4767-86e8-ff7e4ba18d98",
   "metadata": {},
   "outputs": [
    {
     "name": "stdout",
     "output_type": "stream",
     "text": [
      "{'Title': 'Senior Consultant', 'Job_type': 'Full Time', 'Department': 'General Insurance Department', 'Overall_rating': 4.0, 'day': 8, 'month': 'Sep', 'year': 2023}\n"
     ]
    }
   ],
   "source": [
    "selected_attrs = ['Title', 'Job_type', 'Department', 'Overall_rating',\n",
    "                  'day', 'month', 'year']\n",
    "\n",
    "first_selected = build_selected_review(first_dated_review, selected_attrs)\n",
    "\n",
    "print(first_selected)\n",
    "\n",
    "# {'Title': 'Senior Consultant', 'Place': 'Pune', \n",
    "#  'Job_type': 'Full Time', 'Department': 'General Insurance Department', 'Date': '8 Sep 2023',\n",
    "#  'Overall_rating': 4.0, 'day': 8, 'month': 'Sep', 'year': 2023}"
   ]
  },
  {
   "cell_type": "markdown",
   "id": "3c2db67e-7c3d-423b-8543-2d3ab3963084",
   "metadata": {},
   "source": [
    "And now write a function called `build_selected_reviews` that only returns the specified attributes for each of the reviews."
   ]
  },
  {
   "cell_type": "code",
   "execution_count": 96,
   "id": "c5039b82-1235-4340-ba76-aea768494b8a",
   "metadata": {},
   "outputs": [],
   "source": [
    "def build_selected_reviews(reviews, attrs):\n",
    "    return [build_selected_review(review, attrs) for review in reviews]"
   ]
  },
  {
   "cell_type": "markdown",
   "id": "abde3ec3-8755-4071-ae82-c5b6a5633c65",
   "metadata": {},
   "source": [
    "Ok, so we can see that we have attributes of the job title, location of the job, department, date, and various ratings."
   ]
  },
  {
   "cell_type": "code",
   "execution_count": 97,
   "id": "b1108642-f6fc-4693-8407-fb0743727552",
   "metadata": {},
   "outputs": [],
   "source": [
    "selected_attrs = ['Title', 'Job_type', 'Department', 'Overall_rating',\n",
    "                  'day', 'month', 'year']\n",
    "\n",
    "selected_reviews = build_selected_reviews(dated_reviews, selected_attrs)\n"
   ]
  },
  {
   "cell_type": "code",
   "execution_count": 98,
   "id": "0ff3ae65-043f-4012-b8a0-4b15a722b3a4",
   "metadata": {},
   "outputs": [
    {
     "data": {
      "text/plain": [
       "{'Title': 'Senior Consultant',\n",
       " 'Job_type': 'Full Time',\n",
       " 'Department': 'General Insurance Department',\n",
       " 'Overall_rating': 4.0,\n",
       " 'day': 8,\n",
       " 'month': 'Sep',\n",
       " 'year': 2023}"
      ]
     },
     "execution_count": 98,
     "metadata": {},
     "output_type": "execute_result"
    }
   ],
   "source": [
    "selected_reviews[0]\n",
    "# {'Title': 'Senior Consultant',\n",
    "#  'Job_type': 'Full Time',\n",
    "#  'Department': 'General Insurance Department',\n",
    "#  'Overall_rating': 4.0,\n",
    "#  'day': 8,\n",
    "#  'month': 'Sep',\n",
    "#  'year': 2023}\n"
   ]
  },
  {
   "cell_type": "markdown",
   "id": "6a86ea27-b310-4025-8368-98519acc013f",
   "metadata": {},
   "source": [
    "### Exploring the data"
   ]
  },
  {
   "cell_type": "markdown",
   "id": "5434b3e1-9b99-4310-91ed-c8a02bee893a",
   "metadata": {},
   "source": [
    "Now we can explore some of the data.  The first step is to get an overview of the data."
   ]
  },
  {
   "cell_type": "markdown",
   "id": "d8218ed6-6c6c-42f0-a92e-db972615e917",
   "metadata": {},
   "source": [
    "Begin by finding the number of unique titles across the selected_reviews. "
   ]
  },
  {
   "cell_type": "code",
   "execution_count": 48,
   "id": "e7ce6c60-baec-47b3-b900-d9cf6ebf7808",
   "metadata": {},
   "outputs": [
    {
     "data": {
      "text/plain": [
       "4241"
      ]
     },
     "execution_count": 48,
     "metadata": {},
     "output_type": "execute_result"
    }
   ],
   "source": [
    "len(list(set([review['Title'] for review in selected_reviews])))\n",
    "# 4241"
   ]
  },
  {
   "cell_type": "markdown",
   "id": "578027e0-5f35-4b4b-862b-921254373246",
   "metadata": {},
   "source": [
    "Ok, that's a lot."
   ]
  },
  {
   "cell_type": "markdown",
   "id": "b4f6e995-587d-434a-9c1d-0aa9cb1691e0",
   "metadata": {},
   "source": [
    "Now write a function that given a year, finds only the `selected_reviews` written in that year. "
   ]
  },
  {
   "cell_type": "code",
   "execution_count": 80,
   "id": "4c89cbf6-fd05-4e09-b865-e556c1508364",
   "metadata": {},
   "outputs": [
    {
     "data": {
      "text/plain": [
       "[{'Title': 'Senior Consultant',\n",
       "  'Job_type': 'Full Time',\n",
       "  'Department': 'General Insurance Department',\n",
       "  'Overall_rating': 4.0,\n",
       "  'day': 8,\n",
       "  'month': 'Sep',\n",
       "  'year': 2023}]"
      ]
     },
     "execution_count": 81,
     "metadata": {},
     "output_type": "execute_result"
    }
   ],
   "source": [
    "selected_reviews[0]"
   ]
  },
  {
   "cell_type": "code",
   "execution_count": 99,
   "id": "56fae6c6-e64c-447d-ab44-b6c882a4d626",
   "metadata": {},
   "outputs": [],
   "source": [
    "def reviews_for_year(reviews, year):\n",
    "    return [review for review in reviews if review['year'] == year]"
   ]
  },
  {
   "cell_type": "code",
   "execution_count": 102,
   "id": "ec9d6d47-a283-4dad-a365-d21033a15f8f",
   "metadata": {},
   "outputs": [
    {
     "data": {
      "text/plain": [
       "6203"
      ]
     },
     "execution_count": 102,
     "metadata": {},
     "output_type": "execute_result"
    }
   ],
   "source": [
    "selected_reviews_2023 = reviews_for_year(selected_reviews, 2023)\n",
    "len(selected_reviews_2023)\n",
    "\n",
    "# 6203"
   ]
  },
  {
   "cell_type": "markdown",
   "id": "b8600e91-eaa2-432e-ab56-7bf7711dcb1d",
   "metadata": {},
   "source": [
    "Now *use the function above* to create a dictionary that has keys of the years 2017 through 2023, and values of the number of reviews per each year."
   ]
  },
  {
   "cell_type": "code",
   "execution_count": 108,
   "id": "28cc8051-357b-4dda-b3e3-fd09537cbde5",
   "metadata": {},
   "outputs": [],
   "source": [
    "amounts = [len(reviews_for_year(selected_reviews, year)) for year in range(2017, 2024)]"
   ]
  },
  {
   "cell_type": "code",
   "execution_count": 109,
   "id": "1cc7a95c-2f67-4870-9611-d74cd6ef0abc",
   "metadata": {},
   "outputs": [],
   "source": [
    "years = range(2017, 2024)"
   ]
  },
  {
   "cell_type": "code",
   "execution_count": 111,
   "id": "f530423e-66eb-4609-95ab-91d4c2b95bc7",
   "metadata": {},
   "outputs": [
    {
     "name": "stdout",
     "output_type": "stream",
     "text": [
      "{2017: 491, 2018: 4065, 2019: 3103, 2020: 1163, 2021: 2804, 2022: 8086, 2023: 6203}\n"
     ]
    }
   ],
   "source": [
    "amounts_by_year = dict(zip(years, amounts))\n",
    "print(amounts_by_year)\n",
    "\n",
    "# {2017: 491, 2018: 4065, \n",
    "# 2019: 3103, 2020: 1163, 2021: 2804, 2022: 8086, 2023: 6203}"
   ]
  },
  {
   "cell_type": "markdown",
   "id": "fe365606-cc78-4e5a-beac-94c74f56d056",
   "metadata": {},
   "source": [
    "Next create a dictionary of the average `Overall_rating` per year."
   ]
  },
  {
   "cell_type": "code",
   "execution_count": 120,
   "id": "927d8500-d9dd-4dd2-a207-90a9b7cba15a",
   "metadata": {},
   "outputs": [
    {
     "data": {
      "text/plain": [
       "True"
      ]
     },
     "execution_count": 120,
     "metadata": {},
     "output_type": "execute_result"
    }
   ],
   "source": [
    "import math\n",
    "math.isnan(float('nan'))"
   ]
  },
  {
   "cell_type": "code",
   "execution_count": 127,
   "id": "165e9594-6e06-4cd3-b74e-c62c5b99eea3",
   "metadata": {},
   "outputs": [],
   "source": [
    "\n",
    "hist = {}\n",
    "for year in range(2017, 2024):\n",
    "    year_reviews = reviews_for_year(selected_reviews, year)\n",
    "    total_ratings = [review['Overall_rating'] for review in year_reviews \n",
    "                     if not math.isnan(review['Overall_rating'])]\n",
    "    hist[year] = round(sum(total_ratings)/ len(total_ratings), 2)"
   ]
  },
  {
   "cell_type": "code",
   "execution_count": 128,
   "id": "39de568b-4af0-4570-95bb-ef04e6f3ec86",
   "metadata": {},
   "outputs": [
    {
     "data": {
      "text/plain": [
       "{2017: 3.35,\n",
       " 2018: 3.16,\n",
       " 2019: 3.48,\n",
       " 2020: 3.75,\n",
       " 2021: 3.84,\n",
       " 2022: 3.98,\n",
       " 2023: 3.78}"
      ]
     },
     "execution_count": 128,
     "metadata": {},
     "output_type": "execute_result"
    }
   ],
   "source": [
    "hist\n",
    "\n",
    "# {2017: 3.35,\n",
    "#  2018: 3.16,\n",
    "#  2019: 3.48,\n",
    "#  2020: 3.75,\n",
    "#  2021: 3.84,\n",
    "#  2022: 3.98,\n",
    "#  2023: 3.78}"
   ]
  },
  {
   "cell_type": "markdown",
   "id": "1b7bde10-dc27-4fa8-b9b1-67b23f9b5681",
   "metadata": {},
   "source": [
    "> Hint: If you are getting getting nan values, it is likely because there are nan values in some of the reviews.  You can exclude these records by adding something like the following to your code.\n",
    "\n",
    "```python\n",
    "import math\n",
    "if not math.isnan(review['Overall_rating'])\n",
    "```"
   ]
  },
  {
   "cell_type": "code",
   "execution_count": null,
   "id": "211f57f5-3241-473f-b858-b597c478a7f0",
   "metadata": {},
   "outputs": [],
   "source": []
  }
 ],
 "metadata": {
  "kernelspec": {
   "display_name": "Python 3 (ipykernel)",
   "language": "python",
   "name": "python3"
  },
  "language_info": {
   "codemirror_mode": {
    "name": "ipython",
    "version": 3
   },
   "file_extension": ".py",
   "mimetype": "text/x-python",
   "name": "python",
   "nbconvert_exporter": "python",
   "pygments_lexer": "ipython3",
   "version": "3.9.12"
  }
 },
 "nbformat": 4,
 "nbformat_minor": 5
}
